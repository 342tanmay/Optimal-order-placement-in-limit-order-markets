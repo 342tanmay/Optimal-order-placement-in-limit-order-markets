{
 "cells": [
  {
   "metadata": {
    "ExecuteTime": {
     "end_time": "2025-05-11T08:19:50.394767Z",
     "start_time": "2025-05-11T08:19:49.660334Z"
    }
   },
   "cell_type": "code",
   "source": "%pip install numpy pandas matplotlib",
   "id": "2782b9192924cf35",
   "outputs": [
    {
     "name": "stdout",
     "output_type": "stream",
     "text": [
      "Requirement already satisfied: numpy in /opt/anaconda3/envs/Optimal_Order_Placement_In_Limit_Order_Markets/lib/python3.12/site-packages (2.2.5)\r\n",
      "Requirement already satisfied: pandas in /opt/anaconda3/envs/Optimal_Order_Placement_In_Limit_Order_Markets/lib/python3.12/site-packages (2.2.3)\r\n",
      "Requirement already satisfied: matplotlib in /opt/anaconda3/envs/Optimal_Order_Placement_In_Limit_Order_Markets/lib/python3.12/site-packages (3.10.3)\r\n",
      "Requirement already satisfied: python-dateutil>=2.8.2 in /opt/anaconda3/envs/Optimal_Order_Placement_In_Limit_Order_Markets/lib/python3.12/site-packages (from pandas) (2.9.0.post0)\r\n",
      "Requirement already satisfied: pytz>=2020.1 in /opt/anaconda3/envs/Optimal_Order_Placement_In_Limit_Order_Markets/lib/python3.12/site-packages (from pandas) (2025.2)\r\n",
      "Requirement already satisfied: tzdata>=2022.7 in /opt/anaconda3/envs/Optimal_Order_Placement_In_Limit_Order_Markets/lib/python3.12/site-packages (from pandas) (2025.2)\r\n",
      "Requirement already satisfied: contourpy>=1.0.1 in /opt/anaconda3/envs/Optimal_Order_Placement_In_Limit_Order_Markets/lib/python3.12/site-packages (from matplotlib) (1.3.2)\r\n",
      "Requirement already satisfied: cycler>=0.10 in /opt/anaconda3/envs/Optimal_Order_Placement_In_Limit_Order_Markets/lib/python3.12/site-packages (from matplotlib) (0.12.1)\r\n",
      "Requirement already satisfied: fonttools>=4.22.0 in /opt/anaconda3/envs/Optimal_Order_Placement_In_Limit_Order_Markets/lib/python3.12/site-packages (from matplotlib) (4.58.0)\r\n",
      "Requirement already satisfied: kiwisolver>=1.3.1 in /opt/anaconda3/envs/Optimal_Order_Placement_In_Limit_Order_Markets/lib/python3.12/site-packages (from matplotlib) (1.4.8)\r\n",
      "Requirement already satisfied: packaging>=20.0 in /opt/anaconda3/envs/Optimal_Order_Placement_In_Limit_Order_Markets/lib/python3.12/site-packages (from matplotlib) (24.2)\r\n",
      "Requirement already satisfied: pillow>=8 in /opt/anaconda3/envs/Optimal_Order_Placement_In_Limit_Order_Markets/lib/python3.12/site-packages (from matplotlib) (11.2.1)\r\n",
      "Requirement already satisfied: pyparsing>=2.3.1 in /opt/anaconda3/envs/Optimal_Order_Placement_In_Limit_Order_Markets/lib/python3.12/site-packages (from matplotlib) (3.2.3)\r\n",
      "Requirement already satisfied: six>=1.5 in /opt/anaconda3/envs/Optimal_Order_Placement_In_Limit_Order_Markets/lib/python3.12/site-packages (from python-dateutil>=2.8.2->pandas) (1.17.0)\r\n",
      "Note: you may need to restart the kernel to use updated packages.\n"
     ]
    }
   ],
   "execution_count": 1
  },
  {
   "cell_type": "code",
   "id": "initial_id",
   "metadata": {
    "collapsed": true,
    "ExecuteTime": {
     "end_time": "2025-05-11T08:19:51.057958Z",
     "start_time": "2025-05-11T08:19:50.500107Z"
    }
   },
   "source": [
    "import numpy as np\n",
    "import pandas as pd\n",
    "from typing import NamedTuple\n",
    "from itertools import product\n",
    "import json\n",
    "import math"
   ],
   "outputs": [],
   "execution_count": 2
  },
  {
   "metadata": {
    "ExecuteTime": {
     "end_time": "2025-05-11T08:19:51.345946Z",
     "start_time": "2025-05-11T08:19:51.066857Z"
    }
   },
   "cell_type": "code",
   "source": [
    "cols = [\"ts_event\", \"publisher_id\", \"ask_px_00\", \"ask_sz_00\"]\n",
    "df = pd.read_csv(\n",
    "    \"l1_day.csv\",\n",
    "    usecols=cols,\n",
    "    parse_dates=[\"ts_event\"],\n",
    "    dtype={\n",
    "        \"publisher_id\": \"int32\",\n",
    "        \"ask_px_00\":   \"float64\",\n",
    "        \"ask_sz_00\":   \"int32\",\n",
    "    },\n",
    ")\n",
    "\n",
    "df.sort_values([\"ts_event\", \"publisher_id\"], inplace=True)\n",
    "\n",
    "df = df.drop_duplicates(subset=[\"ts_event\", \"publisher_id\"], keep=\"first\")\n",
    "\n",
    "print(df.head())\n",
    "print('\\n-------------------------------------------------------------------------\\n')\n",
    "print(f'L1 Snapshot Shape: {df.shape}')"
   ],
   "id": "2e6af63ab1c686f5",
   "outputs": [
    {
     "name": "stdout",
     "output_type": "stream",
     "text": [
      "                             ts_event  publisher_id  ask_px_00  ask_sz_00\n",
      "0 2024-08-01 13:36:32.491911683+00:00             2     222.83         36\n",
      "4 2024-08-01 13:36:32.491912675+00:00             2     222.83         46\n",
      "5 2024-08-01 13:36:32.491927912+00:00             2     222.83        146\n",
      "6 2024-08-01 13:36:32.491939846+00:00             2     222.82         87\n",
      "7 2024-08-01 13:36:32.491944432+00:00             2     222.82         87\n",
      "\n",
      "-------------------------------------------------------------------------\n",
      "\n",
      "L1 Snapshot Shape: (54537, 4)\n"
     ]
    }
   ],
   "execution_count": 3
  },
  {
   "metadata": {
    "ExecuteTime": {
     "end_time": "2025-05-11T08:19:51.358310Z",
     "start_time": "2025-05-11T08:19:51.355764Z"
    }
   },
   "cell_type": "code",
   "source": [
    "class Venue(NamedTuple):\n",
    "    ask: float\n",
    "    ask_size: int\n",
    "    fee: float\n",
    "    rebate: float"
   ],
   "id": "e5d9e4604122bdaa",
   "outputs": [],
   "execution_count": 4
  },
  {
   "metadata": {
    "ExecuteTime": {
     "end_time": "2025-05-11T08:19:51.372685Z",
     "start_time": "2025-05-11T08:19:51.369192Z"
    }
   },
   "cell_type": "code",
   "source": [
    "def compute_cost(split, venues, order_size,\n",
    "                 lambd_over, lambd_under, theta):\n",
    "\n",
    "    split = np.asarray(split, dtype=np.int32)\n",
    "    ask = np.fromiter((v.ask for v in venues), dtype=np.float64)\n",
    "    ask_size = np.fromiter((v.ask_size  for v in venues), dtype=np.int32)\n",
    "    fee = np.fromiter((v.fee for v in venues), dtype=np.float64)\n",
    "    rebate = np.fromiter((v.rebate for v in venues), dtype=np.float64)\n",
    "\n",
    "    executed = np.minimum(split, ask_size)\n",
    "    maker_vol = split - executed\n",
    "\n",
    "    cash_spent = (executed * (ask + fee)).sum()\n",
    "    cash_spent -= (maker_vol * rebate).sum()\n",
    "\n",
    "    executed_total = int(executed.sum())\n",
    "\n",
    "    underfill = max(order_size - executed_total, 0)\n",
    "    overfill = max(executed_total - order_size, 0)\n",
    "\n",
    "    risk_pen = theta * (underfill + overfill)\n",
    "    cost_pen = (lambd_under * underfill) + (lambd_over * overfill)\n",
    "\n",
    "    return cash_spent + risk_pen + cost_pen"
   ],
   "id": "f0a31b9bf06be28e",
   "outputs": [],
   "execution_count": 5
  },
  {
   "metadata": {
    "ExecuteTime": {
     "end_time": "2025-05-11T08:19:51.388642Z",
     "start_time": "2025-05-11T08:19:51.382590Z"
    }
   },
   "cell_type": "code",
   "source": [
    "def allocate(order_size, venues,\n",
    "             lambd_over, lambd_under, theta_queue,\n",
    "             step: int = 100):\n",
    "\n",
    "    N = len(venues)\n",
    "    if order_size <= 0 or N == 0:\n",
    "        return [0] * N, 0.0\n",
    "\n",
    "    ask = np.fromiter((v.ask for v in venues), dtype=np.float64)\n",
    "    ask_size = np.fromiter((v.ask_size for v in venues), dtype=np.int32)\n",
    "    fee = np.fromiter((v.fee for v in venues), dtype=np.float64)\n",
    "    rebate = np.fromiter((v.rebate for v in venues), dtype=np.float64)\n",
    "\n",
    "    def _cost(split_arr: np.ndarray) -> float:\n",
    "        exe = np.minimum(split_arr, ask_size)\n",
    "        maker = split_arr - exe\n",
    "        cash = (exe * (ask + fee)).sum() - (maker * rebate).sum()\n",
    "        executed_total = int(exe.sum())\n",
    "        under = max(order_size - executed_total, 0)\n",
    "        over = max(executed_total - order_size, 0)\n",
    "        return cash + theta_queue*(under + over) \\\n",
    "                    + lambd_under*under + lambd_over*over\n",
    "\n",
    "    splits = [[]]\n",
    "    for v in range(N):\n",
    "        new_splits = []\n",
    "        for alloc in splits:\n",
    "            used = sum(alloc)\n",
    "            max_v = order_size - used\n",
    "            if max_v < 0:\n",
    "                continue\n",
    "            for q in range(0, max_v + step, step):\n",
    "                new_splits.append(alloc + [q])\n",
    "        splits = new_splits\n",
    "\n",
    "    residual = order_size % step\n",
    "    if residual:\n",
    "        for alloc in splits:\n",
    "            alloc[-1] += residual\n",
    "\n",
    "    best_cost  = float(\"inf\")\n",
    "    best_split = None\n",
    "\n",
    "    for alloc in splits:\n",
    "        if sum(alloc) != order_size:\n",
    "            continue\n",
    "        cost = _cost(np.asarray(alloc, dtype=np.int32))\n",
    "        if cost < best_cost:\n",
    "            best_cost, best_split = cost, alloc\n",
    "\n",
    "    if best_split is None:\n",
    "        cheapest = int(ask.argmin())\n",
    "        best_split = [0] * N\n",
    "        best_split[cheapest] = order_size\n",
    "        best_cost = _cost(np.array(best_split, dtype=np.int32))\n",
    "\n",
    "    return best_split, float(best_cost)"
   ],
   "id": "43479e035e984bea",
   "outputs": [],
   "execution_count": 6
  },
  {
   "metadata": {
    "ExecuteTime": {
     "end_time": "2025-05-11T08:19:51.405383Z",
     "start_time": "2025-05-11T08:19:51.400300Z"
    }
   },
   "cell_type": "code",
   "source": [
    "def load_snapshots(dataf, taker_fee, maker_rebate):\n",
    "    for ts_event, snap in dataf.groupby(\"ts_event\", sort=True):\n",
    "        venues = [\n",
    "            Venue(float(px), int(sz), taker_fee, maker_rebate)\n",
    "            for px, sz in zip(snap[\"ask_px_00\"], snap[\"ask_sz_00\"])\n",
    "        ]\n",
    "        yield ts_event, venues\n",
    "\n",
    "def run_router(dataf,\n",
    "               lam_o: float,\n",
    "               lam_u: float,\n",
    "               theta_q: float,\n",
    "               order_size: int = 5_000,\n",
    "               taker_fee: float = 0.0030,\n",
    "               maker_rebate: float = 0.0020):\n",
    "\n",
    "    remaining      = order_size\n",
    "    cash_spent     = 0.0\n",
    "    last_best_ask  = None\n",
    "\n",
    "    for _, venues in load_snapshots(dataf, taker_fee, maker_rebate):\n",
    "        split, _ = allocate(remaining, venues, lam_o, lam_u, theta_q)\n",
    "\n",
    "        ask_sz = np.fromiter((v.ask_size for v in venues), dtype=np.int32)\n",
    "        ask_px = np.fromiter((v.ask      for v in venues), dtype=np.float64)\n",
    "\n",
    "        exe = np.minimum(split, ask_sz)\n",
    "        cash_spent += np.sum(exe * (ask_px + taker_fee))\n",
    "\n",
    "        maker_vol = np.array(split) - exe\n",
    "        cash_spent -= np.sum(maker_vol * maker_rebate)\n",
    "\n",
    "        remaining -= int(exe.sum())\n",
    "        last_best_ask = ask_px.min()\n",
    "\n",
    "        if remaining <= 0:\n",
    "            break\n",
    "\n",
    "    if remaining > 0:\n",
    "        if last_best_ask is None:\n",
    "            raise RuntimeError(\"No snapshots available to execute any shares.\")\n",
    "        cash_spent += remaining * (last_best_ask + taker_fee)\n",
    "\n",
    "    avg_px = cash_spent / order_size\n",
    "    return cash_spent, avg_px"
   ],
   "id": "c297a754ca17b7a3",
   "outputs": [],
   "execution_count": 7
  },
  {
   "metadata": {
    "ExecuteTime": {
     "end_time": "2025-05-11T08:19:51.417749Z",
     "start_time": "2025-05-11T08:19:51.415136Z"
    }
   },
   "cell_type": "code",
   "source": [
    "L_OVER  = [0.00050, 0.00100, 0.00150, 0.00200, 0.00250]\n",
    "L_UNDER = [0.00100, 0.00200, 0.00300, 0.00400, 0.00500]\n",
    "THETA   = [0.00050, 0.00100, 0.00150, 0.00200, 0.00250]\n",
    "\n",
    "def tune_router(df):\n",
    "    best_px = float(\"inf\")\n",
    "    best_cash = None\n",
    "    best_params = None\n",
    "\n",
    "    for lambd_over, lambd_under, theta_queue in product(L_OVER, L_UNDER, THETA):\n",
    "        cash, px = run_router(df, lambd_over, lambd_under, theta_queue)\n",
    "        if px < best_px:\n",
    "            best_px, best_cash = px, cash\n",
    "            best_params = (lambd_over, lambd_under, theta_queue)\n",
    "\n",
    "    return best_params, best_cash, best_px"
   ],
   "id": "8671021f271a3314",
   "outputs": [],
   "execution_count": 8
  },
  {
   "metadata": {
    "ExecuteTime": {
     "end_time": "2025-05-11T08:19:52.716495Z",
     "start_time": "2025-05-11T08:19:51.425878Z"
    }
   },
   "cell_type": "code",
   "source": [
    "best_params, router_cash, router_px = tune_router(df)\n",
    "print(\"Best params:\", best_params, \"avg_px:\", router_px)"
   ],
   "id": "46d5d50ff71ab4a6",
   "outputs": [
    {
     "name": "stdout",
     "output_type": "stream",
     "text": [
      "Best params: (0.0005, 0.001, 0.0005) avg_px: 222.79488559999996\n"
     ]
    }
   ],
   "execution_count": 9
  },
  {
   "metadata": {
    "ExecuteTime": {
     "end_time": "2025-05-11T08:19:52.733463Z",
     "start_time": "2025-05-11T08:19:52.727779Z"
    }
   },
   "cell_type": "code",
   "source": [
    "def bestask_baseline(df,\n",
    "                     order_size: int = 5_000,\n",
    "                     taker_fee: float = 0.0030) -> tuple[float, float]:\n",
    "    remaining, cash_spent = order_size, 0.0\n",
    "\n",
    "    for _, venues in load_snapshots(df, taker_fee, 0.0):\n",
    "        best_ask = min(v.ask for v in venues)\n",
    "        vol      = min(remaining, order_size)\n",
    "        cash_spent += vol * (best_ask + taker_fee)\n",
    "        remaining  -= vol\n",
    "        if remaining <= 0:\n",
    "            break\n",
    "\n",
    "    avg_px = cash_spent / order_size\n",
    "    return cash_spent, avg_px\n",
    "\n",
    "def twap_baseline(df,\n",
    "                  bucket_secs: int = 60,\n",
    "                  order_size: int = 5_000,\n",
    "                  taker_fee: float = 0.0030) -> tuple[float, float]:\n",
    "    bucket_ns = bucket_secs * 1_000_000_000\n",
    "    remaining = order_size\n",
    "    cash_spent = 0.0\n",
    "    current_bucket = None\n",
    "    bucket_target = order_size / 9\n",
    "\n",
    "    for ts, venues in load_snapshots(df, taker_fee, 0.0):\n",
    "        ts_ns = ts.value if isinstance(ts, pd.Timestamp) else int(ts)\n",
    "\n",
    "        if current_bucket is None:\n",
    "            current_bucket = ts_ns // bucket_ns\n",
    "\n",
    "        if ts_ns // bucket_ns > current_bucket:\n",
    "            current_bucket = ts_ns // bucket_ns\n",
    "            slices_left   = max(1, 9 - current_bucket)\n",
    "            bucket_target = remaining / slices_left\n",
    "\n",
    "        best_ask = min(v.ask for v in venues)\n",
    "        vol = min(bucket_target, remaining)\n",
    "        cash_spent += vol * (best_ask + taker_fee)\n",
    "        remaining -= vol\n",
    "        if remaining <= 0:\n",
    "            break\n",
    "\n",
    "    if remaining > 0:\n",
    "        cash_spent += remaining * (best_ask + taker_fee)\n",
    "\n",
    "    avg_px = cash_spent / order_size\n",
    "    return cash_spent, avg_px\n",
    "\n",
    "def vwap_baseline(df,\n",
    "                  order_size: int = 5_000,\n",
    "                  taker_fee: float = 0.0030) -> tuple[float, float]:\n",
    "    remaining, cash_spent = order_size, 0.0\n",
    "\n",
    "    for _, venues in load_snapshots(df, taker_fee, 0.0):\n",
    "        ask_px = np.array([v.ask for v in venues], dtype=np.float64)\n",
    "        ask_sz = np.array([v.ask_size for v in venues], dtype=np.int32)\n",
    "\n",
    "        weights = ask_sz / ask_sz.sum()\n",
    "        vwap = float(np.dot(weights, ask_px))\n",
    "\n",
    "        vol = min(remaining, order_size)\n",
    "        cash_spent += vol * (vwap + taker_fee)\n",
    "        remaining -= vol\n",
    "        if remaining <= 0:\n",
    "            break\n",
    "\n",
    "    if remaining > 0:\n",
    "        cash_spent += remaining * (vwap + taker_fee)\n",
    "\n",
    "    avg_px = cash_spent / order_size\n",
    "    return cash_spent, avg_px"
   ],
   "id": "c43af678493a0067",
   "outputs": [],
   "execution_count": 10
  },
  {
   "metadata": {
    "ExecuteTime": {
     "end_time": "2025-05-11T08:19:52.772054Z",
     "start_time": "2025-05-11T08:19:52.743316Z"
    }
   },
   "cell_type": "code",
   "source": [
    "ba_cash, ba_px = bestask_baseline(df)\n",
    "tw_cash, tw_px = twap_baseline(df)\n",
    "vw_cash, vw_px = vwap_baseline(df)\n",
    "\n",
    "print(\"Best‑Ask avg_px:\", ba_px)\n",
    "print(\"TWAP‑60s avg_px:\", tw_px)\n",
    "print(\"VWAP avg_px:\", vw_px)"
   ],
   "id": "64179a6a3c440c72",
   "outputs": [
    {
     "name": "stdout",
     "output_type": "stream",
     "text": [
      "Best‑Ask avg_px: 222.833\n",
      "TWAP‑60s avg_px: 222.82633333333325\n",
      "VWAP avg_px: 222.833\n"
     ]
    }
   ],
   "execution_count": 11
  },
  {
   "metadata": {
    "ExecuteTime": {
     "end_time": "2025-05-11T08:19:52.787288Z",
     "start_time": "2025-05-11T08:19:52.782894Z"
    }
   },
   "cell_type": "code",
   "source": [
    "assert best_params is not None, \"Run tune_router() first\"\n",
    "assert router_cash is not None, \"Run tune_router() first\"\n",
    "assert ba_cash is not None, \"Run baseline cells first\"\n",
    "\n",
    "summary = {\n",
    "    \"lambda_over\": best_params[0],\n",
    "    \"lambda_under\": best_params[1],\n",
    "    \"theta_queue\": best_params[2],\n",
    "\n",
    "    \"router_total_cash\": round(router_cash, 2),\n",
    "    \"router_avg_px\": round(router_px,   6),\n",
    "\n",
    "    \"bestask_total_cash\": round(ba_cash, 2),\n",
    "    \"bestask_avg_px\": round(ba_px,   6),\n",
    "\n",
    "    \"twap_total_cash\": round(tw_cash, 2),\n",
    "    \"twap_avg_px\": round(tw_px,   6),\n",
    "\n",
    "    \"vwap_total_cash\": round(vw_cash, 2),\n",
    "    \"vwap_avg_px\": round(vw_px,   6),\n",
    "\n",
    "    \"bps_vs_bestask\": round(1e4 * (ba_px - router_px) / ba_px, 2),\n",
    "    \"bps_vs_twap\": round(1e4 * (tw_px - router_px) / tw_px, 2),\n",
    "    \"bps_vs_vwap\": round(1e4 * (vw_px - router_px) / vw_px, 2)\n",
    "}\n",
    "\n",
    "print(json.dumps(summary, indent=2))"
   ],
   "id": "38f385eb0bb295e6",
   "outputs": [
    {
     "name": "stdout",
     "output_type": "stream",
     "text": [
      "{\n",
      "  \"lambda_over\": 0.0005,\n",
      "  \"lambda_under\": 0.001,\n",
      "  \"theta_queue\": 0.0005,\n",
      "  \"router_total_cash\": 1113974.43,\n",
      "  \"router_avg_px\": 222.794886,\n",
      "  \"bestask_total_cash\": 1114165.0,\n",
      "  \"bestask_avg_px\": 222.833,\n",
      "  \"twap_total_cash\": 1114131.67,\n",
      "  \"twap_avg_px\": 222.826333,\n",
      "  \"vwap_total_cash\": 1114165.0,\n",
      "  \"vwap_avg_px\": 222.833,\n",
      "  \"bps_vs_bestask\": 1.71,\n",
      "  \"bps_vs_twap\": 1.41,\n",
      "  \"bps_vs_vwap\": 1.71\n",
      "}\n"
     ]
    }
   ],
   "execution_count": 12
  },
  {
   "metadata": {},
   "cell_type": "markdown",
   "source": [
    "**OPTIONAL PLOT**\n",
    "\n",
    "Done using Matplotlib"
   ],
   "id": "291ba83b3408e5fd"
  },
  {
   "metadata": {
    "ExecuteTime": {
     "end_time": "2025-05-11T08:19:53.180687Z",
     "start_time": "2025-05-11T08:19:52.796989Z"
    }
   },
   "cell_type": "code",
   "source": [
    "import matplotlib.pyplot as plt\n",
    "\n",
    "blue = \"#1b3254\"\n",
    "orange = \"#fe3300\"\n",
    "\n",
    "plt.rcParams.update({\n",
    "    \"axes.edgecolor\": blue,\n",
    "    \"axes.labelcolor\": blue,\n",
    "    \"xtick.color\": blue,\n",
    "    \"ytick.color\": blue,\n",
    "    \"text.color\":   blue,\n",
    "    \"font.size\": 12\n",
    "})\n",
    "\n",
    "labels = [\"Router\", \"Best‑Ask\", \"TWAP\", \"VWAP\"]\n",
    "avg_prices = [\n",
    "    summary[\"router_avg_px\"],\n",
    "    summary[\"bestask_avg_px\"],\n",
    "    summary[\"twap_avg_px\"],\n",
    "    summary[\"vwap_avg_px\"],\n",
    "]\n",
    "\n",
    "bar_colours = [blue if i % 2 == 0 else orange\n",
    "               for i in range(len(labels))]\n",
    "\n",
    "plt.figure(figsize=(8, 5))\n",
    "bars = plt.bar(labels, avg_prices, color=bar_colours, edgecolor=blue)\n",
    "\n",
    "plt.ylabel(\"Average Fill Price\")\n",
    "plt.title(\"Average Fill Price Comparison\")\n",
    "\n",
    "for idx, val in enumerate(avg_prices):\n",
    "    plt.text(idx, val, f\"{val:.3f}\", ha=\"center\", va=\"bottom\", color=blue)\n",
    "\n",
    "plt.grid(axis=\"y\", linestyle=\"--\", linewidth=0.4, color=blue, alpha=0.3)\n",
    "\n",
    "plt.tight_layout()\n",
    "plt.show()\n",
    "\n",
    "plt.savefig(\"results.png\")"
   ],
   "id": "7bc26c53db621db9",
   "outputs": [
    {
     "data": {
      "text/plain": [
       "<Figure size 800x500 with 1 Axes>"
      ],
      "image/png": "[encoded data removed]"
     },
     "metadata": {},
     "output_type": "display_data"
    },
    {
     "data": {
      "text/plain": [
       "<Figure size 640x480 with 0 Axes>"
      ]
     },
     "metadata": {},
     "output_type": "display_data"
    }
   ],
   "execution_count": 13
  }
 ],
 "metadata": {
  "kernelspec": {
   "display_name": "Python 3",
   "language": "python",
   "name": "python3"
  },
  "language_info": {
   "codemirror_mode": {
    "name": "ipython",
    "version": 2
   },
   "file_extension": ".py",
   "mimetype": "text/x-python",
   "name": "python",
   "nbconvert_exporter": "python",
   "pygments_lexer": "ipython2",
   "version": "2.7.6"
  }
 },
 "nbformat": 4,
 "nbformat_minor": 5
}
